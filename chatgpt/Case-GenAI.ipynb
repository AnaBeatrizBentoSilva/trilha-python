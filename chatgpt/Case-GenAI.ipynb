{
 "cells": [
  {
   "cell_type": "markdown",
   "id": "8099246d-18f7-47e3-858f-a22808c5b7ce",
   "metadata": {},
   "source": [
    "## **Case: Extração de Insights de Textos**"
   ]
  },
  {
   "cell_type": "markdown",
   "id": "1f3b1205-d487-4d0c-9122-c30f8cf3a29c",
   "metadata": {},
   "source": [
    "----------------------------------"
   ]
  },
  {
   "cell_type": "markdown",
   "id": "6b941fcd-9352-4c4a-ae6b-782eef004860",
   "metadata": {},
   "source": [
    "**Estrutura do Notebook**\n",
    "1) Extração de Texto\n",
    "2) Utilizando GPT para \n",
    "    * Extrair Entidades\n",
    "    * Analisar Sentimentos\n",
    "    * Sumarizar Textos\n",
    "    * Comunicações Personalizadas"
   ]
  },
  {
   "cell_type": "markdown",
   "id": "2862d896-bc22-4cb4-9eea-6e7bbfb214d9",
   "metadata": {},
   "source": [
    "----------------------------------"
   ]
  },
  {
   "cell_type": "markdown",
   "id": "09ae781d-b00c-4ef8-884f-92afa402d10c",
   "metadata": {},
   "source": [
    "### **Extração de Texto**"
   ]
  },
  {
   "cell_type": "markdown",
   "id": "e7a3d021-eb67-4154-86d9-4da8b9445718",
   "metadata": {},
   "source": [
    "Para extrair o texto de pdfs, é recomendável instalar a biblioteca **pdfminer.six**. Isso pode ser feito usando pip, o gerenciador de pacotes do Python. No Jupyter Notebook, eles podem executar o seguinte comando:"
   ]
  },
  {
   "cell_type": "code",
   "execution_count": 252,
   "id": "4e6003f9-9e00-407c-91b7-598616145951",
   "metadata": {},
   "outputs": [
    {
     "name": "stdout",
     "output_type": "stream",
     "text": [
      "Requirement already satisfied: pdfminer.six in /opt/anaconda3/lib/python3.12/site-packages (20240706)\n",
      "Requirement already satisfied: charset-normalizer>=2.0.0 in /opt/anaconda3/lib/python3.12/site-packages (from pdfminer.six) (3.3.2)\n",
      "Requirement already satisfied: cryptography>=36.0.0 in /opt/anaconda3/lib/python3.12/site-packages (from pdfminer.six) (43.0.0)\n",
      "Requirement already satisfied: cffi>=1.12 in /opt/anaconda3/lib/python3.12/site-packages (from cryptography>=36.0.0->pdfminer.six) (1.17.1)\n",
      "Requirement already satisfied: pycparser in /opt/anaconda3/lib/python3.12/site-packages (from cffi>=1.12->cryptography>=36.0.0->pdfminer.six) (2.21)\n",
      "Note: you may need to restart the kernel to use updated packages.\n"
     ]
    }
   ],
   "source": [
    "pip install pdfminer.six"
   ]
  },
  {
   "cell_type": "markdown",
   "id": "8017fa4c-1146-40cb-a3d1-3220b36c117c",
   "metadata": {},
   "source": [
    "Após a instalação, importe a biblioteca conforme realizado na célula abaixo:"
   ]
  },
  {
   "cell_type": "code",
   "execution_count": 254,
   "id": "beea1568-ea35-46c2-af91-03e305416461",
   "metadata": {},
   "outputs": [],
   "source": [
    "from pdfminer.high_level import extract_text"
   ]
  },
  {
   "cell_type": "code",
   "execution_count": 256,
   "id": "09775312-4ef1-4e28-a8a7-95a9400e26ef",
   "metadata": {},
   "outputs": [],
   "source": [
    "# Caminho para o seu arquivo PDF\n",
    "caminho_pdf = \"Cenário Econômico.pdf\"  \n",
    "\n",
    "# Função extratora\n",
    "texto_extraido = extract_text(caminho_pdf)"
   ]
  },
  {
   "cell_type": "code",
   "execution_count": 258,
   "id": "129a64c6-db50-4f77-9248-2069489714cd",
   "metadata": {},
   "outputs": [
    {
     "name": "stdout",
     "output_type": "stream",
     "text": [
      "Cenário Global em 2024\n",
      "\n",
      "O início de 2023 mostrou-se extremamente desafiador, com grandes incertezas sobre o\n",
      "\n",
      "cenário macroeconômico global. Diante da expressiva elevação da inflação,\n",
      "\n",
      "acreditava-se que uma forte desaceleração da atividade seria necessária para\n",
      "\n",
      "desinflacionar as economias, o que demandou um forte ciclo de aperto monetário\n",
      "\n",
      "sincronizado no mundo. Em contrapartida, os riscos financeiros dessa forte alta de juros,\n",
      "\n",
      "como os relacionados à solvência em um contexto de endividamento elevado, geraram\n",
      "\n",
      "preocupações, especialmente após a quebra do Silicon Valley Bank no primeiro\n",
      "\n",
      "semestre do ano. O receio de uma recessão se instalou nos mercados. Mas,\n",
      "\n",
      "contrariando as previsões, terminamos o ano de 2023 com uma atividade resiliente,\n",
      "\n",
      "ainda que em desaceleração, e uma dinâmica desinflacionária muito mais benigna que\n",
      "\n",
      "as expectativas de mercado. Mais surpreendente que a significativa redução da inflação\n",
      "\n",
      "global foi a propagação da desinflação dos bens comercializáveis para os núcleos de\n",
      "\n",
      "inflação, categoria mais correlacionada com os ciclos econômicos e o mercado de\n",
      "\n",
      "trabalho. Em face do contexto atual de convergência da inflação mesmo sem uma forte\n",
      "\n",
      "desaceleração da atividade econômica, o mercado vem aumentando as apostas em um\n",
      "\n",
      "cenário de “pouso suave” no ano que se inicia. Nos Estados Unidos, o ambiente é de\n",
      "\n",
      "rebalanceamento gradual no mercado de trabalho (Figura 1) – o desequilíbrio entre\n",
      "\n",
      "demanda e oferta por trabalhadores recuou a 2,3 milhões em outubro, após atingir um\n",
      "\n",
      "pico de 6 milhões – e atividade ligeiramente mais fraca - após crescer a um ritmo\n",
      "\n",
      "anualizado de cerca de 5%, o quarto trimestre deve ver uma economia com crescimento\n",
      "\n",
      "mais próximo do potencial. O rebalanceamento da atividade aliado ao processo\n",
      "\n",
      "desinflacionário em curso levou o FOMC a mudar sua comunicação em dezembro,\n",
      "\n",
      "sinalizando que cortes na taxa de juros já começaram a ser discutidos e que esse tópico\n",
      "\n",
      "deve ganhar relevância nas próximas reuniões. A mudança de postura do Fed e os\n",
      "\n",
      "dados consistentemente melhores tem levado o mercado a precificar mais de 150 bps\n",
      "\n",
      "de corte em 2024. No Brasil, o cenário econômico não é muito diferente. Após o\n",
      "\n",
      "crescimento extraordinário da agropecuária e expressiva produção na indústria extrativa\n",
      "\n",
      "mineral, em conjunto com uma resiliência maior que o antecipado em setores mais\n",
      "\n",
      "cíclicos da economia, o PIB de 2023 deve crescer em torno de 3% pelo segundo ano\n",
      "\n",
      "consecutivo. Ao mesmo tempo, o recuo da inflação tem sido mais pronunciado que o\n",
      "\n",
      "esperado. No final de 2022, o mercado esperava que a inflação encerrasse 2023 em\n",
      "\n",
      "5,3%, mas o dado oficial deve fechar o ano quase 1 p.p. abaixo dessa expectativa\n",
      "\n",
      "(Figura 2). Esse cenário embasa o ciclo de flexibilização da política monetária em curso\n",
      "\n",
      "\f\n",
      "desde agosto, que já promoveu 2 p.p. de cortes acumulados na taxa Selic. Até o final de\n",
      "\n",
      "2024, o boletim Focus antecipa mais 2.75 p.p. de cortes, levando a Selic a 9% a.a. Uma\n",
      "\n",
      "eventual flexibilização de política monetária promovida pelo Fed pode ampliar ainda\n",
      "\n",
      "mais as apostas de cortes de juros não só no Brasil, mas também em outros\n",
      "\n",
      "emergentes.\n",
      "\n",
      "Na Europa, a inflação tem recuado consideravelmente e a atividade econômica mostrou\n",
      "\n",
      "menos dinamismo. A transmissão da política monetária tem sido rápida,justificando o\n",
      "\n",
      "baixo crescimento em 2023 e inflação corrente abaixo das expectativas de mercado. O\n",
      "\n",
      "ciclo de afrouxamento da política monetária na Zona do Euro também deve se iniciar em\n",
      "\n",
      "2024, visto que as projeções do BCE indicam a convergência da inflação para a meta\n",
      "\n",
      "em 2025 em um cenário de cortes de 25 pontos-base por reunião a partir de junho,\n",
      "\n",
      "levando a taxa básica de 4.00% a 2.75%. Na China, desenha-se um cenário mais\n",
      "\n",
      "desafiador para o crescimento em 2024. Dados econômicos mostram que a atividade\n",
      "\n",
      "não se recuperou conforme o esperado na reabertura pós-Covid, mesmo com os\n",
      "\n",
      "esforços governamentais para impulsionar o crescimento. Os principais desafios ao\n",
      "\n",
      "crescimento chinês, como a desaceleração evidente do setor\n",
      "\n",
      "imobiliário, devem\n",
      "\n",
      "continuar presentes no ano que se inicia (Figura 3). Já o consumo, que foi o maior\n",
      "\n",
      "impulsionador do crescimento em 2023, deve apresentar moderação uma vez que a\n",
      "\n",
      "baixa base de comparação de 2022 não se fará mais presente.\n",
      "\n",
      "Nosso cenário para a economia brasileira leva em conta um cenário global de\n",
      "\n",
      "afrouxamento de política monetária em países desenvolvidos e a desaceleração\n",
      "\n",
      "moderada da atividade global. De um lado, a desaceleração do crescimento chinês se\n",
      "\n",
      "soma aos fatores climáticos que colocam em risco a produtividade da safra brasileira de\n",
      "\n",
      "grãos em 2024. De outro, a continuidade do ciclo de cortes da Selic, a resiliência do\n",
      "\n",
      "mercado de trabalho e a expressiva desinflação prometem sustentar a renda disponível\n",
      "\n",
      "das famílias. Nossa projeção para o PIB brasileiro de 1,3% em 2024 pondera os riscos\n",
      "\n",
      "para ambos os lados. As demais projeções macroeconômicas encontram-se na tabela\n",
      "\n",
      "abaixo.\n",
      "\n",
      "\f\n",
      "\n"
     ]
    }
   ],
   "source": [
    "print(texto_extraido)"
   ]
  },
  {
   "cell_type": "code",
   "execution_count": 260,
   "id": "f8ce28eb-4e52-4457-b43d-7e7b553f566d",
   "metadata": {},
   "outputs": [],
   "source": [
    "# Normalizando o texto extraído\n",
    "texto_limpo = ' '.join(texto_extraido.split())"
   ]
  },
  {
   "cell_type": "code",
   "execution_count": 262,
   "id": "5e440802-88f3-4299-ac8a-0480d79372d3",
   "metadata": {},
   "outputs": [
    {
     "data": {
      "text/plain": [
       "'Cenário Global em 2024 O início de 2023 mostrou-se extremamente desafiador, com grandes incertezas sobre o cenário macroeconômico global. Diante da expressiva elevação da inflação, acreditava-se que uma forte desaceleração da atividade seria necessária para desinflacionar as economias, o que demandou um forte ciclo de aperto monetário sincronizado no mundo. Em contrapartida, os riscos financeiros dessa forte alta de juros, como os relacionados à solvência em um contexto de endividamento elevado, geraram preocupações, especialmente após a quebra do Silicon Valley Bank no primeiro semestre do ano. O receio de uma recessão se instalou nos mercados. Mas, contrariando as previsões, terminamos o ano de 2023 com uma atividade resiliente, ainda que em desaceleração, e uma dinâmica desinflacionária muito mais benigna que as expectativas de mercado. Mais surpreendente que a significativa redução da inflação global foi a propagação da desinflação dos bens comercializáveis para os núcleos de inflação, categoria mais correlacionada com os ciclos econômicos e o mercado de trabalho. Em face do contexto atual de convergência da inflação mesmo sem uma forte desaceleração da atividade econômica, o mercado vem aumentando as apostas em um cenário de “pouso suave” no ano que se inicia. Nos Estados Unidos, o ambiente é de rebalanceamento gradual no mercado de trabalho (Figura 1) – o desequilíbrio entre demanda e oferta por trabalhadores recuou a 2,3 milhões em outubro, após atingir um pico de 6 milhões – e atividade ligeiramente mais fraca - após crescer a um ritmo anualizado de cerca de 5%, o quarto trimestre deve ver uma economia com crescimento mais próximo do potencial. O rebalanceamento da atividade aliado ao processo desinflacionário em curso levou o FOMC a mudar sua comunicação em dezembro, sinalizando que cortes na taxa de juros já começaram a ser discutidos e que esse tópico deve ganhar relevância nas próximas reuniões. A mudança de postura do Fed e os dados consistentemente melhores tem levado o mercado a precificar mais de 150 bps de corte em 2024. No Brasil, o cenário econômico não é muito diferente. Após o crescimento extraordinário da agropecuária e expressiva produção na indústria extrativa mineral, em conjunto com uma resiliência maior que o antecipado em setores mais cíclicos da economia, o PIB de 2023 deve crescer em torno de 3% pelo segundo ano consecutivo. Ao mesmo tempo, o recuo da inflação tem sido mais pronunciado que o esperado. No final de 2022, o mercado esperava que a inflação encerrasse 2023 em 5,3%, mas o dado oficial deve fechar o ano quase 1 p.p. abaixo dessa expectativa (Figura 2). Esse cenário embasa o ciclo de flexibilização da política monetária em curso desde agosto, que já promoveu 2 p.p. de cortes acumulados na taxa Selic. Até o final de 2024, o boletim Focus antecipa mais 2.75 p.p. de cortes, levando a Selic a 9% a.a. Uma eventual flexibilização de política monetária promovida pelo Fed pode ampliar ainda mais as apostas de cortes de juros não só no Brasil, mas também em outros emergentes. Na Europa, a inflação tem recuado consideravelmente e a atividade econômica mostrou menos dinamismo. A transmissão da política monetária tem sido rápida,justificando o baixo crescimento em 2023 e inflação corrente abaixo das expectativas de mercado. O ciclo de afrouxamento da política monetária na Zona do Euro também deve se iniciar em 2024, visto que as projeções do BCE indicam a convergência da inflação para a meta em 2025 em um cenário de cortes de 25 pontos-base por reunião a partir de junho, levando a taxa básica de 4.00% a 2.75%. Na China, desenha-se um cenário mais desafiador para o crescimento em 2024. Dados econômicos mostram que a atividade não se recuperou conforme o esperado na reabertura pós-Covid, mesmo com os esforços governamentais para impulsionar o crescimento. Os principais desafios ao crescimento chinês, como a desaceleração evidente do setor imobiliário, devem continuar presentes no ano que se inicia (Figura 3). Já o consumo, que foi o maior impulsionador do crescimento em 2023, deve apresentar moderação uma vez que a baixa base de comparação de 2022 não se fará mais presente. Nosso cenário para a economia brasileira leva em conta um cenário global de afrouxamento de política monetária em países desenvolvidos e a desaceleração moderada da atividade global. De um lado, a desaceleração do crescimento chinês se soma aos fatores climáticos que colocam em risco a produtividade da safra brasileira de grãos em 2024. De outro, a continuidade do ciclo de cortes da Selic, a resiliência do mercado de trabalho e a expressiva desinflação prometem sustentar a renda disponível das famílias. Nossa projeção para o PIB brasileiro de 1,3% em 2024 pondera os riscos para ambos os lados. As demais projeções macroeconômicas encontram-se na tabela abaixo.'"
      ]
     },
     "execution_count": 262,
     "metadata": {},
     "output_type": "execute_result"
    }
   ],
   "source": [
    "texto_limpo"
   ]
  },
  {
   "cell_type": "code",
   "execution_count": 304,
   "id": "6c53b4ad-6744-498b-8577-ac7dac53d936",
   "metadata": {},
   "outputs": [],
   "source": [
    "def extrair_texto_de_pdf(caminho_pdf):\n",
    "    # Extrair texto do PDF\n",
    "    texto_extraido = extract_text(caminho_pdf)\n",
    "    \n",
    "    # Remover quebras de linha e espaços extras\n",
    "    texto_limpo = ' '.join(texto_extraido.split())\n",
    "    \n",
    "    return texto_limpo"
   ]
  },
  {
   "cell_type": "markdown",
   "id": "ad958dd3-0023-4165-b4d1-1529cc83b97a",
   "metadata": {},
   "source": [
    "----------------------------------"
   ]
  },
  {
   "cell_type": "markdown",
   "id": "4ba5961b-bcf8-40c5-a17a-32f399ed21e6",
   "metadata": {},
   "source": [
    "### **Extração de Entidades**"
   ]
  },
  {
   "cell_type": "markdown",
   "id": "05f56d2f-31df-48f0-83ec-c9f99ff52bf0",
   "metadata": {},
   "source": [
    "A extração de entidades é um processo fundamental para identificar e categorizar elementos chave em um texto, como nomes de países, indicadores econômicos, datas, entre outros. Esse processo permite estruturar dados não estruturados, facilitando análises mais detalhadas e precisas.\n",
    "\n",
    "Neste case, é necessário identificar e extrair países e indicadores econômicos mencionados no texto extraído de um PDF. Para isso, utilizamos a técnica de extração de entidades, que nos permite transformar informações dispersas em dados estruturados, possibilitando a integração e análise eficiente das informações encontradas."
   ]
  },
  {
   "cell_type": "markdown",
   "id": "237a6cda-f2e1-477a-b366-621a208a934c",
   "metadata": {},
   "source": [
    "Para realizar a extração de entidades de um texto, podemos utilizar o GPT da OpenAI. Para isso, é necessário instalar a API da OpenAI, conforme a célula abaixo."
   ]
  },
  {
   "cell_type": "code",
   "execution_count": 9,
   "id": "7ae169c0-93a4-407e-b036-e4b3c44ec1ff",
   "metadata": {},
   "outputs": [
    {
     "name": "stdout",
     "output_type": "stream",
     "text": [
      "Collecting openai\n",
      "  Downloading openai-1.61.1-py3-none-any.whl.metadata (27 kB)\n",
      "Requirement already satisfied: anyio<5,>=3.5.0 in /opt/anaconda3/lib/python3.12/site-packages (from openai) (4.2.0)\n",
      "Requirement already satisfied: distro<2,>=1.7.0 in /opt/anaconda3/lib/python3.12/site-packages (from openai) (1.9.0)\n",
      "Requirement already satisfied: httpx<1,>=0.23.0 in /opt/anaconda3/lib/python3.12/site-packages (from openai) (0.27.0)\n",
      "Collecting jiter<1,>=0.4.0 (from openai)\n",
      "  Downloading jiter-0.8.2-cp312-cp312-macosx_10_12_x86_64.whl.metadata (5.2 kB)\n",
      "Requirement already satisfied: pydantic<3,>=1.9.0 in /opt/anaconda3/lib/python3.12/site-packages (from openai) (2.8.2)\n",
      "Requirement already satisfied: sniffio in /opt/anaconda3/lib/python3.12/site-packages (from openai) (1.3.0)\n",
      "Requirement already satisfied: tqdm>4 in /opt/anaconda3/lib/python3.12/site-packages (from openai) (4.66.5)\n",
      "Requirement already satisfied: typing-extensions<5,>=4.11 in /opt/anaconda3/lib/python3.12/site-packages (from openai) (4.11.0)\n",
      "Requirement already satisfied: idna>=2.8 in /opt/anaconda3/lib/python3.12/site-packages (from anyio<5,>=3.5.0->openai) (3.7)\n",
      "Requirement already satisfied: certifi in /opt/anaconda3/lib/python3.12/site-packages (from httpx<1,>=0.23.0->openai) (2024.12.14)\n",
      "Requirement already satisfied: httpcore==1.* in /opt/anaconda3/lib/python3.12/site-packages (from httpx<1,>=0.23.0->openai) (1.0.2)\n",
      "Requirement already satisfied: h11<0.15,>=0.13 in /opt/anaconda3/lib/python3.12/site-packages (from httpcore==1.*->httpx<1,>=0.23.0->openai) (0.14.0)\n",
      "Requirement already satisfied: annotated-types>=0.4.0 in /opt/anaconda3/lib/python3.12/site-packages (from pydantic<3,>=1.9.0->openai) (0.6.0)\n",
      "Requirement already satisfied: pydantic-core==2.20.1 in /opt/anaconda3/lib/python3.12/site-packages (from pydantic<3,>=1.9.0->openai) (2.20.1)\n",
      "Downloading openai-1.61.1-py3-none-any.whl (463 kB)\n",
      "Downloading jiter-0.8.2-cp312-cp312-macosx_10_12_x86_64.whl (302 kB)\n",
      "Installing collected packages: jiter, openai\n",
      "Successfully installed jiter-0.8.2 openai-1.61.1\n",
      "Note: you may need to restart the kernel to use updated packages.\n"
     ]
    }
   ],
   "source": [
    "pip install openai"
   ]
  },
  {
   "cell_type": "code",
   "execution_count": 49,
   "id": "8b98c1a3-4c4e-4d41-b76f-4c90dcaff24b",
   "metadata": {},
   "outputs": [
    {
     "name": "stdout",
     "output_type": "stream",
     "text": [
      "Collecting google-generativeai\n",
      "  Downloading google_generativeai-0.8.4-py3-none-any.whl.metadata (4.2 kB)\n",
      "Collecting google-ai-generativelanguage==0.6.15 (from google-generativeai)\n",
      "  Downloading google_ai_generativelanguage-0.6.15-py3-none-any.whl.metadata (5.7 kB)\n",
      "Collecting google-api-core (from google-generativeai)\n",
      "  Downloading google_api_core-2.24.1-py3-none-any.whl.metadata (3.0 kB)\n",
      "Collecting google-api-python-client (from google-generativeai)\n",
      "  Downloading google_api_python_client-2.160.0-py2.py3-none-any.whl.metadata (6.7 kB)\n",
      "Collecting google-auth>=2.15.0 (from google-generativeai)\n",
      "  Downloading google_auth-2.38.0-py2.py3-none-any.whl.metadata (4.8 kB)\n",
      "Requirement already satisfied: protobuf in /opt/anaconda3/lib/python3.12/site-packages (from google-generativeai) (4.25.3)\n",
      "Requirement already satisfied: pydantic in /opt/anaconda3/lib/python3.12/site-packages (from google-generativeai) (2.8.2)\n",
      "Requirement already satisfied: tqdm in /opt/anaconda3/lib/python3.12/site-packages (from google-generativeai) (4.66.5)\n",
      "Requirement already satisfied: typing-extensions in /opt/anaconda3/lib/python3.12/site-packages (from google-generativeai) (4.11.0)\n",
      "Collecting proto-plus<2.0.0dev,>=1.22.3 (from google-ai-generativelanguage==0.6.15->google-generativeai)\n",
      "  Downloading proto_plus-1.26.0-py3-none-any.whl.metadata (2.2 kB)\n",
      "Collecting googleapis-common-protos<2.0.dev0,>=1.56.2 (from google-api-core->google-generativeai)\n",
      "  Downloading googleapis_common_protos-1.66.0-py2.py3-none-any.whl.metadata (1.5 kB)\n",
      "Requirement already satisfied: requests<3.0.0.dev0,>=2.18.0 in /opt/anaconda3/lib/python3.12/site-packages (from google-api-core->google-generativeai) (2.32.3)\n",
      "Requirement already satisfied: cachetools<6.0,>=2.0.0 in /opt/anaconda3/lib/python3.12/site-packages (from google-auth>=2.15.0->google-generativeai) (5.3.3)\n",
      "Requirement already satisfied: pyasn1-modules>=0.2.1 in /opt/anaconda3/lib/python3.12/site-packages (from google-auth>=2.15.0->google-generativeai) (0.2.8)\n",
      "Collecting rsa<5,>=3.1.4 (from google-auth>=2.15.0->google-generativeai)\n",
      "  Downloading rsa-4.9-py3-none-any.whl.metadata (4.2 kB)\n",
      "Collecting httplib2<1.dev0,>=0.19.0 (from google-api-python-client->google-generativeai)\n",
      "  Downloading httplib2-0.22.0-py3-none-any.whl.metadata (2.6 kB)\n",
      "Collecting google-auth-httplib2<1.0.0,>=0.2.0 (from google-api-python-client->google-generativeai)\n",
      "  Downloading google_auth_httplib2-0.2.0-py2.py3-none-any.whl.metadata (2.2 kB)\n",
      "Collecting uritemplate<5,>=3.0.1 (from google-api-python-client->google-generativeai)\n",
      "  Downloading uritemplate-4.1.1-py2.py3-none-any.whl.metadata (2.9 kB)\n",
      "Requirement already satisfied: annotated-types>=0.4.0 in /opt/anaconda3/lib/python3.12/site-packages (from pydantic->google-generativeai) (0.6.0)\n",
      "Requirement already satisfied: pydantic-core==2.20.1 in /opt/anaconda3/lib/python3.12/site-packages (from pydantic->google-generativeai) (2.20.1)\n",
      "Collecting grpcio<2.0dev,>=1.33.2 (from google-api-core[grpc]!=2.0.*,!=2.1.*,!=2.10.*,!=2.2.*,!=2.3.*,!=2.4.*,!=2.5.*,!=2.6.*,!=2.7.*,!=2.8.*,!=2.9.*,<3.0.0dev,>=1.34.1->google-ai-generativelanguage==0.6.15->google-generativeai)\n",
      "  Downloading grpcio-1.70.0-cp312-cp312-macosx_10_14_universal2.whl.metadata (3.9 kB)\n",
      "Collecting grpcio-status<2.0.dev0,>=1.33.2 (from google-api-core[grpc]!=2.0.*,!=2.1.*,!=2.10.*,!=2.2.*,!=2.3.*,!=2.4.*,!=2.5.*,!=2.6.*,!=2.7.*,!=2.8.*,!=2.9.*,<3.0.0dev,>=1.34.1->google-ai-generativelanguage==0.6.15->google-generativeai)\n",
      "  Downloading grpcio_status-1.70.0-py3-none-any.whl.metadata (1.1 kB)\n",
      "Requirement already satisfied: pyparsing!=3.0.0,!=3.0.1,!=3.0.2,!=3.0.3,<4,>=2.4.2 in /opt/anaconda3/lib/python3.12/site-packages (from httplib2<1.dev0,>=0.19.0->google-api-python-client->google-generativeai) (3.1.2)\n",
      "Requirement already satisfied: pyasn1<0.5.0,>=0.4.6 in /opt/anaconda3/lib/python3.12/site-packages (from pyasn1-modules>=0.2.1->google-auth>=2.15.0->google-generativeai) (0.4.8)\n",
      "Requirement already satisfied: charset-normalizer<4,>=2 in /opt/anaconda3/lib/python3.12/site-packages (from requests<3.0.0.dev0,>=2.18.0->google-api-core->google-generativeai) (3.3.2)\n",
      "Requirement already satisfied: idna<4,>=2.5 in /opt/anaconda3/lib/python3.12/site-packages (from requests<3.0.0.dev0,>=2.18.0->google-api-core->google-generativeai) (3.7)\n",
      "Requirement already satisfied: urllib3<3,>=1.21.1 in /opt/anaconda3/lib/python3.12/site-packages (from requests<3.0.0.dev0,>=2.18.0->google-api-core->google-generativeai) (2.2.3)\n",
      "Requirement already satisfied: certifi>=2017.4.17 in /opt/anaconda3/lib/python3.12/site-packages (from requests<3.0.0.dev0,>=2.18.0->google-api-core->google-generativeai) (2024.12.14)\n",
      "Collecting protobuf (from google-generativeai)\n",
      "  Downloading protobuf-5.29.3-cp38-abi3-macosx_10_9_universal2.whl.metadata (592 bytes)\n",
      "Downloading google_generativeai-0.8.4-py3-none-any.whl (175 kB)\n",
      "Downloading google_ai_generativelanguage-0.6.15-py3-none-any.whl (1.3 MB)\n",
      "\u001b[2K   \u001b[90m━━━━━━━━━━━━━━━━━━━━━━━━━━━━━━━━━━━━━━━━\u001b[0m \u001b[32m1.3/1.3 MB\u001b[0m \u001b[31m13.6 MB/s\u001b[0m eta \u001b[36m0:00:00\u001b[0m\n",
      "\u001b[?25hDownloading google_api_core-2.24.1-py3-none-any.whl (160 kB)\n",
      "Downloading google_auth-2.38.0-py2.py3-none-any.whl (210 kB)\n",
      "Downloading google_api_python_client-2.160.0-py2.py3-none-any.whl (12.8 MB)\n",
      "\u001b[2K   \u001b[90m━━━━━━━━━━━━━━━━━━━━━━━━━━━━━━━━━━━━━━━━\u001b[0m \u001b[32m12.8/12.8 MB\u001b[0m \u001b[31m18.1 MB/s\u001b[0m eta \u001b[36m0:00:00\u001b[0m00:01\u001b[0m0:01\u001b[0m\n",
      "\u001b[?25hDownloading google_auth_httplib2-0.2.0-py2.py3-none-any.whl (9.3 kB)\n",
      "Downloading googleapis_common_protos-1.66.0-py2.py3-none-any.whl (221 kB)\n",
      "Downloading httplib2-0.22.0-py3-none-any.whl (96 kB)\n",
      "Downloading proto_plus-1.26.0-py3-none-any.whl (50 kB)\n",
      "Downloading rsa-4.9-py3-none-any.whl (34 kB)\n",
      "Downloading uritemplate-4.1.1-py2.py3-none-any.whl (10 kB)\n",
      "Downloading grpcio-1.70.0-cp312-cp312-macosx_10_14_universal2.whl (11.4 MB)\n",
      "\u001b[2K   \u001b[90m━━━━━━━━━━━━━━━━━━━━━━━━━━━━━━━━━━━━━━━━\u001b[0m \u001b[32m11.4/11.4 MB\u001b[0m \u001b[31m22.4 MB/s\u001b[0m eta \u001b[36m0:00:00\u001b[0ma \u001b[36m0:00:01\u001b[0m\n",
      "\u001b[?25hDownloading grpcio_status-1.70.0-py3-none-any.whl (14 kB)\n",
      "Downloading protobuf-5.29.3-cp38-abi3-macosx_10_9_universal2.whl (417 kB)\n",
      "Installing collected packages: uritemplate, rsa, protobuf, httplib2, grpcio, proto-plus, googleapis-common-protos, google-auth, grpcio-status, google-auth-httplib2, google-api-core, google-api-python-client, google-ai-generativelanguage, google-generativeai\n",
      "  Attempting uninstall: protobuf\n",
      "    Found existing installation: protobuf 4.25.3\n",
      "    Uninstalling protobuf-4.25.3:\n",
      "      Successfully uninstalled protobuf-4.25.3\n",
      "Successfully installed google-ai-generativelanguage-0.6.15 google-api-core-2.24.1 google-api-python-client-2.160.0 google-auth-2.38.0 google-auth-httplib2-0.2.0 google-generativeai-0.8.4 googleapis-common-protos-1.66.0 grpcio-1.70.0 grpcio-status-1.70.0 httplib2-0.22.0 proto-plus-1.26.0 protobuf-5.29.3 rsa-4.9 uritemplate-4.1.1\n",
      "Note: you may need to restart the kernel to use updated packages.\n"
     ]
    }
   ],
   "source": [
    "pip install google-generativeai"
   ]
  },
  {
   "cell_type": "markdown",
   "id": "c4fa9360-7b10-4d73-bab4-6c6262ddddc0",
   "metadata": {},
   "source": [
    "Após a instalação, importe a biblioteca conforme realizado na célula abaixo:"
   ]
  },
  {
   "cell_type": "code",
   "execution_count": 21,
   "id": "2ddd2eea-1435-412d-908d-4d11347d7074",
   "metadata": {},
   "outputs": [],
   "source": [
    "from openai import OpenAI"
   ]
  },
  {
   "cell_type": "code",
   "execution_count": 51,
   "id": "a131d677-6010-4bb4-b9f3-a848907f7f1d",
   "metadata": {},
   "outputs": [],
   "source": [
    "import google.generativeai as genai"
   ]
  },
  {
   "cell_type": "code",
   "execution_count": null,
   "id": "d8d2d1e3-452a-4a1b-9d0c-48cd5e8dbc87",
   "metadata": {},
   "outputs": [],
   "source": [
    "# Configurando API Key\n",
    "client = OpenAI(api_key='')"
   ]
  },
  {
   "cell_type": "code",
   "execution_count": null,
   "id": "b4e8e761-c798-4c81-aaf8-3b83b27b5fa1",
   "metadata": {},
   "outputs": [],
   "source": [
    "genai.configure(api_key=\"\")"
   ]
  },
  {
   "cell_type": "markdown",
   "id": "60c091ae-bc67-433e-9af1-2f49e9c1812f",
   "metadata": {},
   "source": [
    "**Testando conexão**"
   ]
  },
  {
   "cell_type": "code",
   "execution_count": null,
   "id": "50d7567b-6d67-4159-96b4-285f26dfcc7f",
   "metadata": {},
   "outputs": [],
   "source": [
    "prompt_teste = \"Qual a capital do Brasil?\"\n",
    "\n",
    "# Chamando o modelo\n",
    "resposta = client.chat.completions.create(\n",
    "        model=\"gpt-3.5-turbo\", # Modelo\n",
    "        messages=[\n",
    "            {\"role\": \"user\", \"content\": prompt_teste}, # Prompt\n",
    "          ],\n",
    "        temperature=0\n",
    "    )\n",
    "\n",
    "# Extraindo o texto da resposta\n",
    "conteudo = resposta.choices[0].message.content"
   ]
  },
  {
   "cell_type": "code",
   "execution_count": 264,
   "id": "59174c77-1500-4ff8-86c2-a06c8b5a31a2",
   "metadata": {},
   "outputs": [
    {
     "name": "stdout",
     "output_type": "stream",
     "text": [
      "Brasília\n"
     ]
    }
   ],
   "source": [
    "model = genai.GenerativeModel(\"gemini-pro\")\n",
    "\n",
    "# Definindo o prompt\n",
    "prompt_teste = \"Qual a capital do Brasil?\"\n",
    "\n",
    "# Chamando o modelo\n",
    "resposta = model.generate_content(prompt_teste)\n",
    "\n",
    "# Exibindo a resposta\n",
    "print(resposta.text)"
   ]
  },
  {
   "cell_type": "code",
   "execution_count": 12,
   "id": "4b223d1f-964c-47ca-bed1-08ce0090d579",
   "metadata": {},
   "outputs": [],
   "source": [
    "def obter_resposta_gpt(prompt,modelo,client,persona=None):\n",
    "    \n",
    "    if persona:\n",
    "        messages_arg = [\n",
    "            {\"role\": \"assistant\", \"content\": persona},\n",
    "            {\"role\": \"user\", \"content\": prompt}\n",
    "        ]\n",
    "    else:\n",
    "        messages_arg = [{\"role\": \"user\", \"content\": prompt}]\n",
    "        \n",
    "    \n",
    "    \n",
    "    \n",
    "    resposta = client.chat.completions.create(\n",
    "        model=modelo,\n",
    "        messages=messages_arg,\n",
    "        temperature=0\n",
    "    )\n",
    "    # Extraindo o texto da resposta\n",
    "    conteudo_resposta = resposta.choices[0].message.content\n",
    "    \n",
    "    return conteudo_resposta\n"
   ]
  },
  {
   "cell_type": "code",
   "execution_count": 266,
   "id": "483731ca-11a0-4c3b-944d-70d5eb4809bd",
   "metadata": {},
   "outputs": [],
   "source": [
    "def obter_resposta_gemini(prompt, modelo=\"gemini-pro\", persona=None):\n",
    "    # Criando o modelo\n",
    "    model = genai.GenerativeModel(modelo)\n",
    "    \n",
    "    # Se houver persona, inclui no prompt\n",
    "    if persona:\n",
    "        prompt = f\"{persona}\\n\\n{prompt}\"\n",
    "    \n",
    "    # Chamando o modelo\n",
    "    resposta = model.generate_content(prompt)\n",
    "    \n",
    "    return resposta.text  # Extraindo a resposta gerada\n"
   ]
  },
  {
   "cell_type": "markdown",
   "id": "9defaa00-d1d8-4fa0-a3bc-48053aaf042e",
   "metadata": {},
   "source": [
    "**Montando um prompt para extração de entidades**"
   ]
  },
  {
   "cell_type": "code",
   "execution_count": 268,
   "id": "66d4fd58-79ae-41f7-9514-ddfcc6da8bfb",
   "metadata": {},
   "outputs": [],
   "source": [
    "prompt = f\"\"\"\n",
    "Sua tarefa consiste em extraír todos as economias citadas no texto abaixo. \n",
    "\n",
    "Texto:\n",
    "'''{texto_limpo}'''\n",
    "    \n",
    "Observação: caso uma economia seja citada mais de uma vez com nomes de diferentes, considere o primeiro nome citado.\n",
    "\n",
    "Formate sua resposta em uma lista, conforme o exemplo de resposta abaixo:\n",
    "[\"economia_1\",\"economia_2\",\"economia_3\",...,\"economia_n\"]\"\"\""
   ]
  },
  {
   "cell_type": "code",
   "execution_count": 274,
   "id": "339b6ea3-3e85-482c-9dfa-6b1bfa27062e",
   "metadata": {},
   "outputs": [],
   "source": [
    "# Função para extrair texto do PDF\n",
    "from pdfminer.high_level import extract_text\n",
    "\n",
    "def extrair_texto_de_pdf(caminho_pdf):\n",
    "    # Extrair texto do PDF\n",
    "    texto_extraido = extract_text(caminho_pdf)\n",
    "    \n",
    "    # Remover quebras de linha e espaços extras\n",
    "    texto_limpo = ' '.join(texto_extraido.split())\n",
    "    \n",
    "    return texto_limpo\n",
    "\n",
    "# Caminho do seu PDF\n",
    "caminho_pdf = \"Cenário Econômico.pdf\"\n",
    "\n",
    "# Chamar a função para extrair o texto\n",
    "texto_limpo = extrair_texto_de_pdf(caminho_pdf)\n",
    "\n",
    "# Agora, defina o prompt com o texto extraído\n",
    "prompt = f\"\"\"\n",
    "Sua tarefa consiste em extraír todos as economias citadas no texto abaixo. \n",
    "\n",
    "Texto:\n",
    "'''{texto_limpo}'''\n",
    "\n",
    "Observação: caso uma economia seja citada mais de uma vez com nomes diferentes, considere o primeiro nome citado.\n",
    "\n",
    "Formate sua resposta em uma lista, conforme o exemplo de resposta abaixo:\n",
    "[\"economia_1\",\"economia_2\",\"economia_3\",...,\"economia_n\"]\n",
    "\"\"\"\n"
   ]
  },
  {
   "cell_type": "code",
   "execution_count": null,
   "id": "071d46ff-200a-45d5-be4b-dc947feccd37",
   "metadata": {},
   "outputs": [],
   "source": [
    "resposta = obter_resposta_gpt(prompt, modelo=\"gpt-4o\",client=client)"
   ]
  },
  {
   "cell_type": "code",
   "execution_count": 276,
   "id": "6a434e56-7132-42f8-8636-84c40a5d730e",
   "metadata": {},
   "outputs": [],
   "source": [
    "resposta = obter_resposta_gemini(prompt, modelo=\"gemini-pro\")"
   ]
  },
  {
   "cell_type": "code",
   "execution_count": 278,
   "id": "10c6643d-aaf1-4046-8a3c-862c5a2bd5c6",
   "metadata": {},
   "outputs": [
    {
     "data": {
      "text/plain": [
       "list"
      ]
     },
     "execution_count": 278,
     "metadata": {},
     "output_type": "execute_result"
    }
   ],
   "source": [
    "type(eval(resposta))"
   ]
  },
  {
   "cell_type": "code",
   "execution_count": 280,
   "id": "2236f1f4-4ca3-4421-b3be-c6ec0df65429",
   "metadata": {},
   "outputs": [],
   "source": [
    "# Transformando string em uma lista\n",
    "lista_resposta = eval(resposta)"
   ]
  },
  {
   "cell_type": "code",
   "execution_count": 282,
   "id": "767e0d81-c3e2-48ce-ae46-4b846349745e",
   "metadata": {},
   "outputs": [
    {
     "name": "stdout",
     "output_type": "stream",
     "text": [
      "Economias citadas no texto: ['Estados Unidos', 'Brasil', 'Europa', 'Zona do Euro', 'China']\n"
     ]
    }
   ],
   "source": [
    "print(f\"Economias citadas no texto: {lista_resposta}\")"
   ]
  },
  {
   "cell_type": "markdown",
   "id": "66b0e441-d0bb-4b56-9b36-ef41abb8aa9a",
   "metadata": {},
   "source": [
    "----------------------------------"
   ]
  },
  {
   "cell_type": "markdown",
   "id": "173da091-c2c0-4600-8784-cd963815e8be",
   "metadata": {},
   "source": [
    "### **Análise de Sentimentos**"
   ]
  },
  {
   "cell_type": "markdown",
   "id": "84b0d3ed-e091-448e-a3fb-896f6ae96ffb",
   "metadata": {},
   "source": [
    "A análise de sentimentos é um processo crucial para determinar a opinião ou emoção expressa em um texto, categorizando-a como positiva, negativa ou neutra. Esse processo ajuda a entender percepções e reações, facilitando decisões baseadas em dados emocionais.\n",
    "\n",
    "Neste case, analisamos o sentimento em relação às economias mencionadas no texto extraído de um PDF. Utilizando a técnica de análise de sentimentos, podemos avaliar a percepção econômica, proporcionando insights valiosos para a interpretação dos dados."
   ]
  },
  {
   "cell_type": "code",
   "execution_count": 284,
   "id": "488ae782-e467-41e9-be23-13c45db32128",
   "metadata": {},
   "outputs": [
    {
     "name": "stdout",
     "output_type": "stream",
     "text": [
      "Estados Unidos\n",
      "*Brasil\n",
      "*Europa\n",
      "*Zona do Euro\n",
      "*China\n"
     ]
    }
   ],
   "source": [
    "print('\\n*'.join(lista_resposta))"
   ]
  },
  {
   "cell_type": "code",
   "execution_count": 286,
   "id": "713ce1e4-4cc0-40e0-afa8-1b806fe7d75e",
   "metadata": {},
   "outputs": [],
   "source": [
    "resposta_em_topicos = '*'+'\\n*'.join(lista_resposta)"
   ]
  },
  {
   "cell_type": "code",
   "execution_count": 288,
   "id": "0c6c167b-aa22-427c-8267-8c468f7a9a06",
   "metadata": {},
   "outputs": [
    {
     "name": "stdout",
     "output_type": "stream",
     "text": [
      "*Estados Unidos\n",
      "*Brasil\n",
      "*Europa\n",
      "*Zona do Euro\n",
      "*China\n"
     ]
    }
   ],
   "source": [
    "print(resposta_em_topicos)"
   ]
  },
  {
   "cell_type": "markdown",
   "id": "f821ed25-7aad-49cb-b654-de011d081225",
   "metadata": {},
   "source": [
    "Definição das instruções"
   ]
  },
  {
   "cell_type": "code",
   "execution_count": 290,
   "id": "83cd8942-6da4-47d8-ab83-8175b53dda98",
   "metadata": {},
   "outputs": [],
   "source": [
    "prompt_sentimentos = f\"\"\"\n",
    "Sua tarefa consiste em analisar o sentimento em relação a uma lista de economias citadas em um texto.\n",
    "\n",
    "Economias:\n",
    "{resposta_em_topicos}\n",
    "\n",
    "Texto:\n",
    "{texto_limpo}\n",
    "\n",
    "Os sentimentos podem se dividir em três classes: positivo, negativo ou neutro.\n",
    "Formate sua resposta como um dicionário. Sua resposta deve conter apenas o dicionário e nenhum texto adicional, conforme o exemplo abaixo:\n",
    "{{'economia_1':'sentimento_1', 'economia_2':'sentimento_2',...,'economia_n','sentimento_n'}}\n",
    "\"\"\""
   ]
  },
  {
   "cell_type": "code",
   "execution_count": 292,
   "id": "27331429-c681-469c-9b73-74d253efefbc",
   "metadata": {},
   "outputs": [
    {
     "name": "stdout",
     "output_type": "stream",
     "text": [
      "\n",
      "Sua tarefa consiste em analisar o sentimento em relação a uma lista de economias citadas em um texto.\n",
      "\n",
      "Economias:\n",
      "*Estados Unidos\n",
      "*Brasil\n",
      "*Europa\n",
      "*Zona do Euro\n",
      "*China\n",
      "\n",
      "Texto:\n",
      "Cenário Global em 2024 O início de 2023 mostrou-se extremamente desafiador, com grandes incertezas sobre o cenário macroeconômico global. Diante da expressiva elevação da inflação, acreditava-se que uma forte desaceleração da atividade seria necessária para desinflacionar as economias, o que demandou um forte ciclo de aperto monetário sincronizado no mundo. Em contrapartida, os riscos financeiros dessa forte alta de juros, como os relacionados à solvência em um contexto de endividamento elevado, geraram preocupações, especialmente após a quebra do Silicon Valley Bank no primeiro semestre do ano. O receio de uma recessão se instalou nos mercados. Mas, contrariando as previsões, terminamos o ano de 2023 com uma atividade resiliente, ainda que em desaceleração, e uma dinâmica desinflacionária muito mais benigna que as expectativas de mercado. Mais surpreendente que a significativa redução da inflação global foi a propagação da desinflação dos bens comercializáveis para os núcleos de inflação, categoria mais correlacionada com os ciclos econômicos e o mercado de trabalho. Em face do contexto atual de convergência da inflação mesmo sem uma forte desaceleração da atividade econômica, o mercado vem aumentando as apostas em um cenário de “pouso suave” no ano que se inicia. Nos Estados Unidos, o ambiente é de rebalanceamento gradual no mercado de trabalho (Figura 1) – o desequilíbrio entre demanda e oferta por trabalhadores recuou a 2,3 milhões em outubro, após atingir um pico de 6 milhões – e atividade ligeiramente mais fraca - após crescer a um ritmo anualizado de cerca de 5%, o quarto trimestre deve ver uma economia com crescimento mais próximo do potencial. O rebalanceamento da atividade aliado ao processo desinflacionário em curso levou o FOMC a mudar sua comunicação em dezembro, sinalizando que cortes na taxa de juros já começaram a ser discutidos e que esse tópico deve ganhar relevância nas próximas reuniões. A mudança de postura do Fed e os dados consistentemente melhores tem levado o mercado a precificar mais de 150 bps de corte em 2024. No Brasil, o cenário econômico não é muito diferente. Após o crescimento extraordinário da agropecuária e expressiva produção na indústria extrativa mineral, em conjunto com uma resiliência maior que o antecipado em setores mais cíclicos da economia, o PIB de 2023 deve crescer em torno de 3% pelo segundo ano consecutivo. Ao mesmo tempo, o recuo da inflação tem sido mais pronunciado que o esperado. No final de 2022, o mercado esperava que a inflação encerrasse 2023 em 5,3%, mas o dado oficial deve fechar o ano quase 1 p.p. abaixo dessa expectativa (Figura 2). Esse cenário embasa o ciclo de flexibilização da política monetária em curso desde agosto, que já promoveu 2 p.p. de cortes acumulados na taxa Selic. Até o final de 2024, o boletim Focus antecipa mais 2.75 p.p. de cortes, levando a Selic a 9% a.a. Uma eventual flexibilização de política monetária promovida pelo Fed pode ampliar ainda mais as apostas de cortes de juros não só no Brasil, mas também em outros emergentes. Na Europa, a inflação tem recuado consideravelmente e a atividade econômica mostrou menos dinamismo. A transmissão da política monetária tem sido rápida,justificando o baixo crescimento em 2023 e inflação corrente abaixo das expectativas de mercado. O ciclo de afrouxamento da política monetária na Zona do Euro também deve se iniciar em 2024, visto que as projeções do BCE indicam a convergência da inflação para a meta em 2025 em um cenário de cortes de 25 pontos-base por reunião a partir de junho, levando a taxa básica de 4.00% a 2.75%. Na China, desenha-se um cenário mais desafiador para o crescimento em 2024. Dados econômicos mostram que a atividade não se recuperou conforme o esperado na reabertura pós-Covid, mesmo com os esforços governamentais para impulsionar o crescimento. Os principais desafios ao crescimento chinês, como a desaceleração evidente do setor imobiliário, devem continuar presentes no ano que se inicia (Figura 3). Já o consumo, que foi o maior impulsionador do crescimento em 2023, deve apresentar moderação uma vez que a baixa base de comparação de 2022 não se fará mais presente. Nosso cenário para a economia brasileira leva em conta um cenário global de afrouxamento de política monetária em países desenvolvidos e a desaceleração moderada da atividade global. De um lado, a desaceleração do crescimento chinês se soma aos fatores climáticos que colocam em risco a produtividade da safra brasileira de grãos em 2024. De outro, a continuidade do ciclo de cortes da Selic, a resiliência do mercado de trabalho e a expressiva desinflação prometem sustentar a renda disponível das famílias. Nossa projeção para o PIB brasileiro de 1,3% em 2024 pondera os riscos para ambos os lados. As demais projeções macroeconômicas encontram-se na tabela abaixo.\n",
      "\n",
      "Os sentimentos podem se dividir em três classes: positivo, negativo ou neutro.\n",
      "Formate sua resposta como um dicionário. Sua resposta deve conter apenas o dicionário e nenhum texto adicional, conforme o exemplo abaixo:\n",
      "{'economia_1':'sentimento_1', 'economia_2':'sentimento_2',...,'economia_n','sentimento_n'}\n",
      "\n"
     ]
    }
   ],
   "source": [
    "print(prompt_sentimentos)"
   ]
  },
  {
   "cell_type": "markdown",
   "id": "b1f950fc-fed4-40ea-9241-e2d6f1473e0c",
   "metadata": {},
   "source": [
    "Definindo uma persona"
   ]
  },
  {
   "cell_type": "code",
   "execution_count": 294,
   "id": "2b8ed51c-2299-49f2-b884-12b1b7f38899",
   "metadata": {},
   "outputs": [],
   "source": [
    "persona = \"Você é um economista com vasta experiência no mercado financeiro.\""
   ]
  },
  {
   "cell_type": "code",
   "execution_count": 24,
   "id": "1a3fc8df-fa01-48d8-bd94-9a2659cb4c88",
   "metadata": {},
   "outputs": [],
   "source": [
    "resposta_sentimento = obter_resposta_gpt(prompt_sentimentos,modelo=\"gpt-4o\",client=client,persona=persona)"
   ]
  },
  {
   "cell_type": "code",
   "execution_count": 296,
   "id": "899b9b3a-1fdc-4994-bf95-4be795045728",
   "metadata": {},
   "outputs": [],
   "source": [
    "resposta_sentimento = obter_resposta_gemini(prompt_sentimentos, modelo=\"gemini-pro\", persona=persona)"
   ]
  },
  {
   "cell_type": "code",
   "execution_count": 298,
   "id": "90b346a0-c489-4ce9-8ab7-9312fb252938",
   "metadata": {},
   "outputs": [
    {
     "name": "stdout",
     "output_type": "stream",
     "text": [
      "{'Estados Unidos': 'positivo', 'Brasil': 'positivo', 'Europa': 'neutro', 'Zona do Euro': 'neutro', 'China': 'negativo'}\n"
     ]
    }
   ],
   "source": [
    "print(resposta_sentimento)"
   ]
  },
  {
   "cell_type": "markdown",
   "id": "be242ea3-e677-4e96-bb91-87e430852115",
   "metadata": {},
   "source": [
    "### **Sumarização de Textos**"
   ]
  },
  {
   "cell_type": "markdown",
   "id": "af54116e-fe8e-40b2-89b2-a48ab438412c",
   "metadata": {},
   "source": [
    "A sumarização é um processo essencial para condensar informações extensas em um formato mais curto, mantendo os pontos principais e a essência do conteúdo original. Esse processo permite uma compreensão rápida e eficiente dos dados, economizando tempo e esforço na leitura.\n",
    "\n",
    "Neste case, aplicamos a técnica de sumarização para reduzir o texto extraído de um PDF, destacando os pontos mais relevantes. Utilizando a sumarização, conseguimos transformar informações longas em resumos concisos, facilitando a análise e a tomada de decisões informadas."
   ]
  },
  {
   "cell_type": "markdown",
   "id": "00591fcc-dd6d-4cf8-a062-311f750cccf6",
   "metadata": {},
   "source": [
    "Aqui, adicionaremos ao prompt de análise de sentimentos a tarefa de sumzarização"
   ]
  },
  {
   "cell_type": "code",
   "execution_count": 306,
   "id": "15448b8d-6a24-42fe-955c-f224fb7b1b2e",
   "metadata": {},
   "outputs": [],
   "source": [
    "prompt_resumo = f\"\"\"\n",
    "Sua tarefa consiste em analisar o sentimento em relação a uma lista de economias citadas em um texto e realizar um breve resumo do texto para cada uma das economias.\n",
    "\n",
    "Economias:\n",
    "{resposta_em_topicos}\n",
    "\n",
    "Texto:\n",
    "{texto_limpo}\n",
    "\n",
    "Os sentimentos podem se dividir em três classes: positivo, negativo ou neutro. O resumo não deve ser maior que um parágrafo.\n",
    "Formate sua resposta como um dicionário. Sua resposta deve conter apenas o dicionário e nenhum texto adicional, conforme o exemplo abaixo:\n",
    "{{'economia_1':'sentimento_1,resumo_1', 'economia_2':'sentimento_2,resumo_2',...,'economia_n','sentimento_n,resumo_n'}}\"\"\""
   ]
  },
  {
   "cell_type": "code",
   "execution_count": 308,
   "id": "28f5eb3b-ef19-4d6a-a10a-7a4e7d89fea3",
   "metadata": {},
   "outputs": [
    {
     "name": "stdout",
     "output_type": "stream",
     "text": [
      "\n",
      "Sua tarefa consiste em analisar o sentimento em relação a uma lista de economias citadas em um texto e realizar um breve resumo do texto para cada uma das economias.\n",
      "\n",
      "Economias:\n",
      "*Estados Unidos\n",
      "*Brasil\n",
      "*Europa\n",
      "*Zona do Euro\n",
      "*China\n",
      "\n",
      "Texto:\n",
      "Cenário Global em 2024 O início de 2023 mostrou-se extremamente desafiador, com grandes incertezas sobre o cenário macroeconômico global. Diante da expressiva elevação da inflação, acreditava-se que uma forte desaceleração da atividade seria necessária para desinflacionar as economias, o que demandou um forte ciclo de aperto monetário sincronizado no mundo. Em contrapartida, os riscos financeiros dessa forte alta de juros, como os relacionados à solvência em um contexto de endividamento elevado, geraram preocupações, especialmente após a quebra do Silicon Valley Bank no primeiro semestre do ano. O receio de uma recessão se instalou nos mercados. Mas, contrariando as previsões, terminamos o ano de 2023 com uma atividade resiliente, ainda que em desaceleração, e uma dinâmica desinflacionária muito mais benigna que as expectativas de mercado. Mais surpreendente que a significativa redução da inflação global foi a propagação da desinflação dos bens comercializáveis para os núcleos de inflação, categoria mais correlacionada com os ciclos econômicos e o mercado de trabalho. Em face do contexto atual de convergência da inflação mesmo sem uma forte desaceleração da atividade econômica, o mercado vem aumentando as apostas em um cenário de “pouso suave” no ano que se inicia. Nos Estados Unidos, o ambiente é de rebalanceamento gradual no mercado de trabalho (Figura 1) – o desequilíbrio entre demanda e oferta por trabalhadores recuou a 2,3 milhões em outubro, após atingir um pico de 6 milhões – e atividade ligeiramente mais fraca - após crescer a um ritmo anualizado de cerca de 5%, o quarto trimestre deve ver uma economia com crescimento mais próximo do potencial. O rebalanceamento da atividade aliado ao processo desinflacionário em curso levou o FOMC a mudar sua comunicação em dezembro, sinalizando que cortes na taxa de juros já começaram a ser discutidos e que esse tópico deve ganhar relevância nas próximas reuniões. A mudança de postura do Fed e os dados consistentemente melhores tem levado o mercado a precificar mais de 150 bps de corte em 2024. No Brasil, o cenário econômico não é muito diferente. Após o crescimento extraordinário da agropecuária e expressiva produção na indústria extrativa mineral, em conjunto com uma resiliência maior que o antecipado em setores mais cíclicos da economia, o PIB de 2023 deve crescer em torno de 3% pelo segundo ano consecutivo. Ao mesmo tempo, o recuo da inflação tem sido mais pronunciado que o esperado. No final de 2022, o mercado esperava que a inflação encerrasse 2023 em 5,3%, mas o dado oficial deve fechar o ano quase 1 p.p. abaixo dessa expectativa (Figura 2). Esse cenário embasa o ciclo de flexibilização da política monetária em curso desde agosto, que já promoveu 2 p.p. de cortes acumulados na taxa Selic. Até o final de 2024, o boletim Focus antecipa mais 2.75 p.p. de cortes, levando a Selic a 9% a.a. Uma eventual flexibilização de política monetária promovida pelo Fed pode ampliar ainda mais as apostas de cortes de juros não só no Brasil, mas também em outros emergentes. Na Europa, a inflação tem recuado consideravelmente e a atividade econômica mostrou menos dinamismo. A transmissão da política monetária tem sido rápida,justificando o baixo crescimento em 2023 e inflação corrente abaixo das expectativas de mercado. O ciclo de afrouxamento da política monetária na Zona do Euro também deve se iniciar em 2024, visto que as projeções do BCE indicam a convergência da inflação para a meta em 2025 em um cenário de cortes de 25 pontos-base por reunião a partir de junho, levando a taxa básica de 4.00% a 2.75%. Na China, desenha-se um cenário mais desafiador para o crescimento em 2024. Dados econômicos mostram que a atividade não se recuperou conforme o esperado na reabertura pós-Covid, mesmo com os esforços governamentais para impulsionar o crescimento. Os principais desafios ao crescimento chinês, como a desaceleração evidente do setor imobiliário, devem continuar presentes no ano que se inicia (Figura 3). Já o consumo, que foi o maior impulsionador do crescimento em 2023, deve apresentar moderação uma vez que a baixa base de comparação de 2022 não se fará mais presente. Nosso cenário para a economia brasileira leva em conta um cenário global de afrouxamento de política monetária em países desenvolvidos e a desaceleração moderada da atividade global. De um lado, a desaceleração do crescimento chinês se soma aos fatores climáticos que colocam em risco a produtividade da safra brasileira de grãos em 2024. De outro, a continuidade do ciclo de cortes da Selic, a resiliência do mercado de trabalho e a expressiva desinflação prometem sustentar a renda disponível das famílias. Nossa projeção para o PIB brasileiro de 1,3% em 2024 pondera os riscos para ambos os lados. As demais projeções macroeconômicas encontram-se na tabela abaixo.\n",
      "\n",
      "Os sentimentos podem se dividir em três classes: positivo, negativo ou neutro. O resumo não deve ser maior que um parágrafo.\n",
      "Formate sua resposta como um dicionário. Sua resposta deve conter apenas o dicionário e nenhum texto adicional, conforme o exemplo abaixo:\n",
      "{'economia_1':'sentimento_1,resumo_1', 'economia_2':'sentimento_2,resumo_2',...,'economia_n','sentimento_n,resumo_n'}\n"
     ]
    }
   ],
   "source": [
    "print(prompt_resumo)"
   ]
  },
  {
   "cell_type": "code",
   "execution_count": 28,
   "id": "80699187-6d74-4d1e-8516-f782b51f4890",
   "metadata": {},
   "outputs": [],
   "source": [
    "resposta_resumo = obter_resposta_gpt(prompt_resumo,modelo=\"gpt-4o\",client=client,persona=persona)"
   ]
  },
  {
   "cell_type": "code",
   "execution_count": 310,
   "id": "e59fb78a-ff73-4825-95c0-5c8d1248c383",
   "metadata": {},
   "outputs": [],
   "source": [
    "resposta_resumo = obter_resposta_gemini(prompt_resumo, modelo=\"gemini-pro\",persona=persona)"
   ]
  },
  {
   "cell_type": "code",
   "execution_count": 312,
   "id": "dfd989ed-09d0-4dc0-bf97-3f682fdcfd90",
   "metadata": {},
   "outputs": [
    {
     "name": "stdout",
     "output_type": "stream",
     "text": [
      "{'Estados Unidos': 'Positivo, O mercado espera um \"pouso suave\" com juros caindo e redução da inflação.', 'Brasil': 'Positivo, Crescimento estável, inflação em queda e política monetária flexível.', 'Europa': 'Neutro, Inflação em queda e atividade em desaceleração, com afrouxamento da política monetária esperado.', 'Zona do Euro': 'Neutro, Convergência da inflação para a meta e cortes de juros previstos.', 'China': 'Negativo, Desafios de crescimento, com desaceleração imobiliária e consumo fraco.'}\n"
     ]
    }
   ],
   "source": [
    "print(resposta_resumo)"
   ]
  },
  {
   "cell_type": "code",
   "execution_count": 314,
   "id": "e4813437-a35e-4443-96e8-63a22643986a",
   "metadata": {},
   "outputs": [],
   "source": [
    "resumo = eval(resposta_resumo)"
   ]
  },
  {
   "cell_type": "code",
   "execution_count": 316,
   "id": "26c94bc6-2391-45ae-9f6b-6a041de71938",
   "metadata": {},
   "outputs": [
    {
     "data": {
      "text/plain": [
       "'Negativo, Desafios de crescimento, com desaceleração imobiliária e consumo fraco.'"
      ]
     },
     "execution_count": 316,
     "metadata": {},
     "output_type": "execute_result"
    }
   ],
   "source": [
    "resumo.get(\"China\")"
   ]
  },
  {
   "cell_type": "code",
   "execution_count": 318,
   "id": "52fef253-1e8e-4328-abe6-df7bd1bae3a2",
   "metadata": {},
   "outputs": [
    {
     "data": {
      "text/plain": [
       "'Positivo, Crescimento estável, inflação em queda e política monetária flexível.'"
      ]
     },
     "execution_count": 318,
     "metadata": {},
     "output_type": "execute_result"
    }
   ],
   "source": [
    "resumo.get(\"Brasil\")"
   ]
  },
  {
   "cell_type": "markdown",
   "id": "973cb879-bbe0-4101-bc94-5478fb50ee6c",
   "metadata": {},
   "source": [
    "### **Comunicações Personalizadas**"
   ]
  },
  {
   "cell_type": "markdown",
   "id": "e2d75e70-3859-4ccb-829a-df044dc9e36b",
   "metadata": {},
   "source": [
    "O GPT pode reescrever texto para diferentes públicos-alvo, adaptando o tom, estilo e complexidade conforme necessário. Isso permite a personalização da comunicação, tornando-a mais relevante e eficaz para cada segmento de audiência, seja ele técnico, leigo, profissional ou jovem. Utilizando o GPT, empresas podem criar conteúdo que ressoa melhor com seus diferentes públicos, melhorando engajamento e compreensão."
   ]
  },
  {
   "cell_type": "markdown",
   "id": "48e56403-7b45-4faa-a583-935ffa77b5c0",
   "metadata": {},
   "source": [
    "Resumo para revista especializada"
   ]
  },
  {
   "cell_type": "code",
   "execution_count": 320,
   "id": "47d6068e-fc60-4af2-ab4c-118b899ad9c7",
   "metadata": {},
   "outputs": [],
   "source": [
    "resumo_tecnico = {}"
   ]
  },
  {
   "cell_type": "code",
   "execution_count": 322,
   "id": "ac4a738a-f7dd-47e5-ad6a-98eb67df5f15",
   "metadata": {},
   "outputs": [],
   "source": [
    "persona = \"Você é um editor experiente de uma revista técnica focada em economia.\""
   ]
  },
  {
   "cell_type": "code",
   "execution_count": 35,
   "id": "91af9171-8e14-4c33-bf32-957051b97bcf",
   "metadata": {},
   "outputs": [],
   "source": [
    "for economia in resumo:\n",
    "    resumo_selecionado = resumo.get(economia)\n",
    "\n",
    "    prompt_comunicacao = f\"\"\"Sua tarefa consiste em reescrever um texto a fim de adaptá-lo para o seu público-alvo.\n",
    "    Texto:\n",
    "    '''{resumo_selecionado}'''\n",
    "    \n",
    "    Retorne apenas o texto em sua resposta.\n",
    "    \"\"\"\n",
    "    \n",
    "    resumo_reescrito = obter_resposta_gpt(prompt_comunicacao,modelo=\"gpt-4o\",client=client,persona=persona)\n",
    "    \n",
    "    resumo_tecnico[economia] = resumo_reescrito"
   ]
  },
  {
   "cell_type": "code",
   "execution_count": 324,
   "id": "d0b80346-250d-4f2c-94ad-f0493df81d12",
   "metadata": {},
   "outputs": [],
   "source": [
    "for economia in resumo:\n",
    "    resumo_selecionado = resumo.get(economia)\n",
    "\n",
    "    prompt_comunicacao = f\"\"\"Sua tarefa consiste em reescrever um texto a fim de adaptá-lo para o seu público-alvo.\n",
    "    Texto:\n",
    "    '''{resumo_selecionado}'''\n",
    "    \n",
    "    Retorne apenas o texto em sua resposta.\n",
    "    \"\"\"\n",
    "    \n",
    "    resumo_reescrito = obter_resposta_gemini(prompt_comunicacao, modelo=\"gemini-pro\",persona=persona)\n",
    "    \n",
    "    resumo_tecnico[economia] = resumo_reescrito"
   ]
  },
  {
   "cell_type": "code",
   "execution_count": 325,
   "id": "ec3b2bf9-9250-4ec7-bdcc-f01968fa5cf4",
   "metadata": {},
   "outputs": [
    {
     "data": {
      "text/plain": [
       "'Desafios Econômicos Persistentes: Estagnação do Crescimento devido à Retração Imobiliária e Queda no Consumo'"
      ]
     },
     "execution_count": 325,
     "metadata": {},
     "output_type": "execute_result"
    }
   ],
   "source": [
    "resumo_tecnico.get('China')"
   ]
  },
  {
   "cell_type": "code",
   "execution_count": 328,
   "id": "019ba392-084c-472a-b64e-a824be466950",
   "metadata": {},
   "outputs": [
    {
     "data": {
      "text/plain": [
       "'Perspectiva Neutra: Inflação Decrescente e Atividade Econômica Moderada com Relaxamento Monetário Antecipado'"
      ]
     },
     "execution_count": 328,
     "metadata": {},
     "output_type": "execute_result"
    }
   ],
   "source": [
    "resumo_tecnico.get(\"Europa\")"
   ]
  },
  {
   "cell_type": "markdown",
   "id": "3f6ca300-408b-4c12-bd34-c574f07d5137",
   "metadata": {},
   "source": [
    "Resumo para revista não especializada no assunto."
   ]
  },
  {
   "cell_type": "code",
   "execution_count": 330,
   "id": "9a90e24e-0226-407d-914a-be15fd14f511",
   "metadata": {},
   "outputs": [],
   "source": [
    "persona = \"Você é um editor experiente de uma revista focada no público geral.\""
   ]
  },
  {
   "cell_type": "code",
   "execution_count": 334,
   "id": "a9183fc6-4a44-431b-aaf1-3491794d009f",
   "metadata": {},
   "outputs": [],
   "source": [
    "resumo_leigo = {}\n",
    "\n",
    "for economia in resumo:\n",
    "    resumo_selecionado = resumo.get(economia)\n",
    "\n",
    "    prompt_comunicacao = f\"\"\"Sua tarefa consiste em reescrever um texto a fim de adaptá-lo para um público sem conhecimento de economia. \n",
    "    Caso seja necessário, simplifique ou adicione uma explicação a termos que não sejam de conhecimento comum.\n",
    "    Texto:\n",
    "    '''{resumo_selecionado}'''\n",
    "    \n",
    "    Retorne apenas o texto em sua resposta.\n",
    "    \"\"\"\n",
    "    \n",
    "    resumo_reescrito = obter_resposta_gpt(prompt_comunicacao,modelo=\"gpt-4o\",client=client,persona=persona)\n",
    "    \n",
    "    resumo_leigo[economia] = resumo_reescrito"
   ]
  },
  {
   "cell_type": "code",
   "execution_count": 336,
   "id": "431ca161-5775-4e22-8208-37c58bd46bcd",
   "metadata": {},
   "outputs": [],
   "source": [
    "resumo_leigo = {}\n",
    "\n",
    "for economia in resumo:\n",
    "    resumo_selecionado = resumo.get(economia)\n",
    "\n",
    "    prompt_comunicacao = f\"\"\"Sua tarefa consiste em reescrever um texto a fim de adaptá-lo para um público sem conhecimento de economia. \n",
    "    Caso seja necessário, simplifique ou adicione uma explicação a termos que não sejam de conhecimento comum.\n",
    "    Texto:\n",
    "    '''{resumo_selecionado}'''\n",
    "    \n",
    "    Retorne apenas o texto em sua resposta.\n",
    "    \"\"\"\n",
    "    \n",
    "    resumo_reescrito = obter_resposta_gemini(prompt_comunicacao, modelo=\"gemini-pro\",persona=persona)\n",
    "    \n",
    "    resumo_leigo[economia] = resumo_reescrito"
   ]
  },
  {
   "cell_type": "code",
   "execution_count": 337,
   "id": "c7f783df-6df1-4692-ae20-407a356f53a9",
   "metadata": {},
   "outputs": [
    {
     "data": {
      "text/plain": [
       "'Neutro, com a inflação diminuindo e a economia desacelerando, o que geralmente indica a necessidade de diminuir as taxas de juros (afrouxamento da política monetária).'"
      ]
     },
     "execution_count": 337,
     "metadata": {},
     "output_type": "execute_result"
    }
   ],
   "source": [
    "resumo_leigo.get(\"Europa\")"
   ]
  },
  {
   "cell_type": "code",
   "execution_count": 340,
   "id": "aa5915b3-c985-4297-93fd-522af1d182d6",
   "metadata": {},
   "outputs": [
    {
     "data": {
      "text/plain": [
       "'Positivo'"
      ]
     },
     "execution_count": 340,
     "metadata": {},
     "output_type": "execute_result"
    }
   ],
   "source": [
    "resumo.get('Brasil').split(',')[0].title()"
   ]
  },
  {
   "cell_type": "markdown",
   "id": "e40e106d-a974-4c31-b7b2-9e7b198841c7",
   "metadata": {},
   "source": [
    "Geração de PDF"
   ]
  },
  {
   "cell_type": "code",
   "execution_count": 344,
   "id": "498f3a50-f9cc-40b7-974c-bc0da839f78b",
   "metadata": {},
   "outputs": [
    {
     "name": "stdout",
     "output_type": "stream",
     "text": [
      "Collecting fpdf\n",
      "  Downloading fpdf-1.7.2.tar.gz (39 kB)\n",
      "  Preparing metadata (setup.py) ... \u001b[?25ldone\n",
      "\u001b[?25hBuilding wheels for collected packages: fpdf\n",
      "  Building wheel for fpdf (setup.py) ... \u001b[?25ldone\n",
      "\u001b[?25h  Created wheel for fpdf: filename=fpdf-1.7.2-py2.py3-none-any.whl size=40704 sha256=419ea7fc5328536cd09699000146c88103b5d71637bf168664b1e24829f048e7\n",
      "  Stored in directory: /Users/anabeatriz/Library/Caches/pip/wheels/6e/62/11/dc73d78e40a218ad52e7451f30166e94491be013a7850b5d75\n",
      "Successfully built fpdf\n",
      "Installing collected packages: fpdf\n",
      "Successfully installed fpdf-1.7.2\n",
      "Note: you may need to restart the kernel to use updated packages.\n"
     ]
    }
   ],
   "source": [
    "pip install fpdf"
   ]
  },
  {
   "cell_type": "code",
   "execution_count": 346,
   "id": "d04a5754-65d2-458c-b09f-14a2ed04ad18",
   "metadata": {},
   "outputs": [],
   "source": [
    "from fpdf import FPDF \n",
    "\n",
    "def salvar_dicionario_em_pdf(dicionario, resumo_original, caminho_pdf):\n",
    "    # Crie uma instância do FPDF\n",
    "    pdf = FPDF()\n",
    "    \n",
    "    # Adicione uma página\n",
    "    pdf.add_page()\n",
    "    \n",
    "    # Título\n",
    "    pdf.set_font(\"Arial\", style='B', size=12)\n",
    "    pdf.multi_cell(0, 6, f\"Resumo Econômico\")\n",
    "    pdf.ln()  # Adicione uma linha em branco entre parágrafos\n",
    "\n",
    "    # Itere sobre o dicionário e adicione cada chave e valor como parágrafo\n",
    "    for pais, resumo in dicionario.items():\n",
    "        sentimento = resumo_original.get(pais).split(',')[0]\n",
    "        \n",
    "        # Adicione o país como um título em negrito\n",
    "        pdf.set_font(\"Arial\", style='BU', size=10)\n",
    "        pdf.multi_cell(0, 6, f\"{pais} - Sentimento {sentimento.title()}\")\n",
    "        \n",
    "        # Adicione o resumo com fonte normal\n",
    "        pdf.set_font(\"Arial\", size=10)\n",
    "        pdf.multi_cell(0, 6, resumo)\n",
    "        pdf.ln()  # Adicione uma linha em branco entre parágrafos\n",
    "    \n",
    "    # Salve o PDF no caminho especificado\n",
    "    pdf.output(caminho_pdf)\n",
    "\n",
    "caminho_pdf = \"resumos_paises.pdf\"\n",
    "salvar_dicionario_em_pdf(resumo_leigo, resumo, caminho_pdf)"
   ]
  },
  {
   "cell_type": "code",
   "execution_count": 60,
   "id": "03e9b124-2b0f-46f5-b18a-08a1af24c92c",
   "metadata": {},
   "outputs": [],
   "source": [
    "caminho_pdf = \"resumos_paises_tecnico.pdf\"\n",
    "salvar_dicionario_em_pdf(resumo_tecnico, resumo, caminho_pdf)"
   ]
  }
 ],
 "metadata": {
  "kernelspec": {
   "display_name": "Python [conda env:base] *",
   "language": "python",
   "name": "conda-base-py"
  },
  "language_info": {
   "codemirror_mode": {
    "name": "ipython",
    "version": 3
   },
   "file_extension": ".py",
   "mimetype": "text/x-python",
   "name": "python",
   "nbconvert_exporter": "python",
   "pygments_lexer": "ipython3",
   "version": "3.12.7"
  }
 },
 "nbformat": 4,
 "nbformat_minor": 5
}
